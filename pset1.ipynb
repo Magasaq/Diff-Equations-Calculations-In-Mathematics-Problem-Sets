{
 "cells": [
  {
   "cell_type": "markdown",
   "metadata": {},
   "source": [
    "# Problem Set 1"
   ]
  },
  {
   "cell_type": "markdown",
   "metadata": {},
   "source": [
    "## Важная информация\n",
    "- Дедлайн вторник 23:59\n",
    "- Название файла: 'группа_фамилия_имя.*' (пример 877_tsimboy_olga.ipynb)\n",
    "- Присылать на tsimboy.oa@phystech.edu, тема: CM_HW\n",
    "- Любые источники должны цитироваться\n",
    "- Код должен быть readable & reproducible(reproducible = restart & run all без ошибок)\n",
    "- Оставляйте комментарии, если задача куска кода не очевидна из контекста\n"
   ]
  },
  {
   "cell_type": "markdown",
   "metadata": {},
   "source": [
    "# Problem 0\n",
    "Из задавальника\n",
    "\n",
    "8.15, 8.23, 8.20"
   ]
  },
  {
   "cell_type": "markdown",
   "metadata": {},
   "source": [
    "# Problem 1\n",
    "\n",
    "- Для каких матриц существует SVD разложение? а собственное? Ответы обосновать.\n",
    "\n",
    "- Вычислить $\\|A\\|_1$, $\\|A\\|_{\\infty}$ для прямоугольной матрицы А.\n",
    "\n",
    "_1._\n",
    "\n",
    "- Напишите все выражения для нормы Фробениуса, которые вы знаете.\n",
    "- Доказать, что $\\| U A \\|_F = \\| A U \\|_F = \\| A \\|_F$ для любой унитарной матрицы $U$.\n",
    "- Доказать, что $\\| Ux \\|_2 = \\| x \\|_2$ for any $x$, если и только если $U$ явлется унитарной.\n",
    "- Доказать, что $\\| U A \\|_2 = \\| A U \\|_2 = \\| A \\|_2$ для любой унитарной матрицы $U$.\n",
    "  \n",
    "_2._\n",
    "- Доказать, что $\\| A \\|_F \\le \\sqrt{\\mathrm{rank}(A)} \\| A \\|_2$. _Hint:_ SVD ваш друг. Как она связана с SVD?\n",
    "- Показать, что $m, n$ и $k \\le \\min(m, n)$ существует $A \\in \\mathbb{R}^{m \\times n}: \\mathrm{rank}(A) = k$ такая, что $\\| A \\|_F = \\sqrt{\\mathrm{rank}(A)} \\| A \\|_2$. In Другими словами показать, что предыдущее неравенство строгое.\n",
    "- Доказать, что если $\\mathrm{rank}(A) = 1$, то $\\| A \\|_F  = \\| A \\|_2$.\n",
    "- Доказать, что  $\\| A B \\|_F \\le \\| A \\|_2 \\| B \\|_F$.\n",
    "\n",
    "_3._    \n",
    "* Взять производную по $A$ от функции\n",
    "$$\n",
    "f(A) = \\mathrm{sin}(x^\\top A B C D x),\n",
    "$$\n",
    "где $x$ является вектором и $A, B, C, D$ квадратные матрицы.\n",
    "\n",
    "* Взять производную по $y, A, X$ от функции\n",
    "$$f(y, A, X) = \\mathrm{tr}(\\mathrm{diag}(y) A X),$$\n",
    "где $y \\in \\mathbb{R}^n$ и $A, X \\in \\mathbb{R}^{n \\times n}$, \n",
    "\n",
    "$$\n",
    "\\mathrm{diag}(y)_{i, j} = \n",
    "    \\begin{cases}\n",
    "      y_i, & \\text{if}\\ i = j \\\\\n",
    "      0, & \\text{otherwise}\n",
    "    \\end{cases}\n",
    "$$"
   ]
  },
  {
   "cell_type": "markdown",
   "metadata": {},
   "source": [
    "_4._ Найти градиент $R(x) = \\frac{(x, Ax)}{(x, Bx)},~A = A^*.~ B > 0$, как это связано с задачей о нахождении собственныз значений при $B = I$\n",
    "\n",
    "Найти градиент функции по $U, V$ (r-ранговая аппроксимация матрицы A)\n",
    "$$F(U, V) = \\frac{1}{3}\\|A - UV\\|^2_F + \\frac{\\lambda_U}{2}\\|U\\|^2_F + \\frac{\\lambda_V}{2}\\|V\\|^2_F$$\n",
    "$U \\in \\mathbb{R}^{n \\times r}$, $V \\in \\mathbb{R}^{r \\times m}$\n"
   ]
  },
  {
   "cell_type": "markdown",
   "metadata": {},
   "source": [
    "Постройте линии уровня для нормы $\\|x\\|_p$, будет ли это нормой, если $p \\in (0, 1)$?"
   ]
  },
  {
   "cell_type": "code",
   "execution_count": null,
   "metadata": {},
   "outputs": [],
   "source": []
  },
  {
   "cell_type": "markdown",
   "metadata": {},
   "source": [
    "\n",
    "* Докажите, что нормальная матрица эрмитова тогда и только тогда, когда все собственные числа действительные\n",
    "* Докажите, что нормальная матрица унитарна тогда и только тогда, когда все собственные значения $|\\lambda_i| = 1$. \n",
    "\n",
    "* Продемонстрируем нестабильность Жордановой формы. Найдите собственные значения возмущенного Жорданова Блока:\n",
    "\n",
    "$$\n",
    "    J(\\varepsilon) = \n",
    "    \\begin{bmatrix} \n",
    "     \\lambda & 1 & & & 0 \\\\ \n",
    "     & \\lambda & 1 & & \\\\ \n",
    "     &  & \\ddots & \\ddots & \\\\ \n",
    "     & & & \\lambda & 1 \\\\ \n",
    "     \\varepsilon & & & & \\lambda  \\\\ \n",
    "    \\end{bmatrix}_{n\\times n}\n",
    "$$\n",
    "\n",
    "Прокомментируйте как собственные значения $J(0)$ возмущены для больших $n$."
   ]
  },
  {
   "cell_type": "markdown",
   "metadata": {},
   "source": [
    "# Problem 2 (Сложение чисел в массиве)\n",
    "\n",
    "_1._ Реализовать наивное сложение один за одним. Какая ошибка будет в худшем случае?\n",
    "\n",
    "_2._ Реализовать алгоритм Кэхэна. Какова ошибка данного подхода? (Дать вывод оценки ошибки -- задание со звездочкой)"
   ]
  },
  {
   "cell_type": "code",
   "execution_count": 10,
   "metadata": {},
   "outputs": [
    {
     "name": "stdout",
     "output_type": "stream",
     "text": [
      "Error in np sum: 1.9e-04\n",
      "Error in your sum: -1.0e+00\n",
      "Error in dumb sum: -1.0e+00\n",
      "Error in math fsum: 1.3e-10\n"
     ]
    }
   ],
   "source": [
    "import numpy as np\n",
    "import math\n",
    "from numba import jit\n",
    "\n",
    "n = 10 ** 8\n",
    "sm = 1e-10\n",
    "x = np.ones(n, dtype=np.float32) * sm\n",
    "x[0] = 1.0\n",
    "true_sum = 1.0 + (n - 1)*sm\n",
    "approx_sum = np.sum(x)\n",
    "math_fsum = math.fsum(x)\n",
    "\n",
    "\n",
    "@jit(nopython=True)\n",
    "def dumb_sum(x):\n",
    "    s = np.float32(0.0)\n",
    "    #code here\n",
    "    return s\n",
    "\n",
    "@jit(nopython=True)\n",
    "def your_sum(x):\n",
    "    s = np.float32(0.0)\n",
    "    #code here\n",
    "    return s\n",
    "k_sum = your_sum(x)\n",
    "d_sum = dumb_sum(x)\n",
    "print('Error in np sum: {0:3.1e}'.format(approx_sum - true_sum))\n",
    "print('Error in your sum: {0:3.1e}'.format(k_sum - true_sum))\n",
    "print('Error in dumb sum: {0:3.1e}'.format(d_sum - true_sum))\n",
    "print('Error in math fsum: {0:3.1e}'.format(math_fsum - true_sum))"
   ]
  },
  {
   "cell_type": "markdown",
   "metadata": {},
   "source": [
    "# Problem 3 (Производная функции Бесселя)\n",
    "\n",
    "Написать функцию, которая вычисляет функцию Бесселя первого рода $J_0(x)$, суммируя часть ее ряда Тейлора в окрестности точки $x_0 = 0$\n",
    "$$J_0(x) = \\sum\\limits_{k = 0}^{\\infty}\\frac{(-1)^k}{(k!)^2}\\left(\\frac{x}{2}\\right)^2$$\n",
    "Далее, используя эту функцию и формулу численного дифференцирования, найти производную функции Бесселя в $x = 1$ c заданной точность $\\varepsilon = 10^{-6}$, шаг использовать оптимальный, допускаем, что ошибка вычисления функции Бесселя равна первому отброшенному слагаемому в ряде Тейлора, использовать минимальное число членов в ряде для решения задачи, как обозначалось на семинаре максимум $n$-ой произподной $M_n \\leq 1$. Все формулы подкрепить выкладками"
   ]
  },
  {
   "cell_type": "code",
   "execution_count": null,
   "metadata": {},
   "outputs": [],
   "source": []
  },
  {
   "cell_type": "markdown",
   "metadata": {},
   "source": [
    "# Problem 4 (Перемножение матриц)\n",
    "\n",
    "Вычислительная математика -- это не только погрешности и нормы, это еще и сложность. \n",
    "\n",
    "\n",
    "_1._ Реализовать наивный алгоритм матричного умножения для квадратных матриц с явным циклом “for”."
   ]
  },
  {
   "cell_type": "code",
   "execution_count": 1,
   "metadata": {},
   "outputs": [],
   "source": [
    "def naive_multiplication(A, B):\n",
    "    \"\"\"\n",
    "    Implement naive matrix multiplication with explicit for cycles\n",
    "    \n",
    "    Parameters: Matrices A, B\n",
    "    \n",
    "    Returns: Matrix C = AB\n",
    "    \"\"\"\n",
    "    return C"
   ]
  },
  {
   "cell_type": "code",
   "execution_count": 2,
   "metadata": {},
   "outputs": [],
   "source": [
    "# check the correctnenss"
   ]
  },
  {
   "cell_type": "markdown",
   "metadata": {},
   "source": [
    "Будем рассматривать матрицу в виде блоков, для простоты $2\\times 2$. Нужно посчитать $C = AB$\n",
    "\n",
    "$$\n",
    "   A = \\begin{bmatrix}\n",
    "         A_{11} & A_{12} \\\\\n",
    "         A_{21} & A_{22}\n",
    "        \\end{bmatrix}, \\quad B = \\begin{bmatrix}\n",
    "         B_{11} & B_{12} \\\\\n",
    "         B_{21} & B_{22}\n",
    "        \\end{bmatrix}$$\n",
    "\n",
    "Тогда,  \n",
    "\n",
    "$$AB = \\begin{bmatrix}A_{11} B_{11} + A_{12} B_{21} & A_{11} B_{12} + A_{12} B_{22} \\\\\n",
    "            A_{21} B_{11} + A_{22} B_{21} & A_{21} B_{12} + A_{22} B_{22}\\end{bmatrix}.$$ \n",
    "\n",
    "На самом деле можно посчитать $C$ используя 18 сложений и только 7 умножений :\n",
    "$$\n",
    "\\begin{split}\n",
    "c_{11} &= f_1 + f_4 - f_5 + f_7, \\\\\n",
    "c_{12} &= f_3 + f_5, \\\\\n",
    "c_{21} &= f_2 + f_4, \\\\\n",
    "c_{22} &= f_1 - f_2 + f_3 + f_6,\n",
    "\\end{split}\n",
    "$$\n",
    "где\n",
    "$$\n",
    "\\begin{split}\n",
    "f_1 &= (a_{11} + a_{22}) (b_{11} + b_{22}), \\\\\n",
    "f_2 &= (a_{21} + a_{22}) b_{11}, \\\\\n",
    "f_3 &= a_{11} (b_{12} - b_{22}), \\\\\n",
    "f_4 &= a_{22} (b_{21} - b_{11}), \\\\\n",
    "f_5 &= (a_{11} + a_{12}) b_{22}, \\\\\n",
    "f_6 &= (a_{21} - a_{11}) (b_{11} + b_{12}), \\\\\n",
    "f_7 &= (a_{12} - a_{22}) (b_{21} + b_{22}).\n",
    "\\end{split}\n",
    "$$\n",
    "\n",
    "Оказывается, что такое перемножение верно даже если $a_{ij},~b_{ij}$ блоки матрицы.\n",
    "\n",
    "Вопервых квадратные матрицы размера $n\\times n$, $n=2^d$ разбиваются на 4 блока $\\frac{n}{2}\\times \\frac{n}{2}$\n",
    "- Далее верны формулы выше\n",
    "\n",
    "Это приводит нас к алгоритму разделяй и властвуй."
   ]
  },
  {
   "cell_type": "code",
   "execution_count": 3,
   "metadata": {},
   "outputs": [],
   "source": [
    "def faster_multiplication(A, B):    \n",
    "    \"\"\"\n",
    "    Implement algorithm from above for matrix multiplication \n",
    "    \n",
    "    Parameters: Matrices A, B\n",
    "    \n",
    "    Returns: Matrix C = AB\n",
    "    \"\"\"\n",
    "    return С"
   ]
  },
  {
   "cell_type": "code",
   "execution_count": 4,
   "metadata": {},
   "outputs": [],
   "source": [
    "# check the correctnenss"
   ]
  },
  {
   "cell_type": "markdown",
   "metadata": {},
   "source": [
    "_3._ Сравнить три подхода: наивное умножение, разделяй и властвуй алгоритм, NumPy функцию. Предоставить графики зависимости времени исполнения от размера матрицы в лог-масштабе, не забудьте добавить все подписи. Рассматривайте размер матриц $n=100, 200,\\ldots, 700$. Чем плохо наивное умножение? Получите оценку сложности алгоритма Штрассена и сравните данные с теми, что получены в ходе экспериментов. Можно ли лучше? А что на счет умножения матрицы на вектор? Какова сложность, можно ли ее улучшить в общем случае, а если матрицы обладают некоторой структурой?"
   ]
  },
  {
   "cell_type": "code",
   "execution_count": null,
   "metadata": {},
   "outputs": [],
   "source": []
  }
 ],
 "metadata": {
  "kernelspec": {
   "display_name": "Python 3",
   "language": "python",
   "name": "python3"
  },
  "language_info": {
   "codemirror_mode": {
    "name": "ipython",
    "version": 3
   },
   "file_extension": ".py",
   "mimetype": "text/x-python",
   "name": "python",
   "nbconvert_exporter": "python",
   "pygments_lexer": "ipython3",
   "version": "3.8.2"
  }
 },
 "nbformat": 4,
 "nbformat_minor": 4
}
